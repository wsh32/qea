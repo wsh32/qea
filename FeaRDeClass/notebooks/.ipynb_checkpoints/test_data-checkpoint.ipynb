{
 "cells": [
  {
   "cell_type": "code",
   "execution_count": 2,
   "metadata": {},
   "outputs": [],
   "source": [
    "import pandas as pd"
   ]
  },
  {
   "cell_type": "code",
   "execution_count": 12,
   "metadata": {},
   "outputs": [],
   "source": [
    "player_data = pd.read_csv('data/People.csv')"
   ]
  },
  {
   "cell_type": "code",
   "execution_count": 11,
   "metadata": {},
   "outputs": [],
   "source": [
    "pitching_data = pd.read_csv('data/Pitching.csv')\n",
    "pitching_data_recent = pitching_data[pitching_data['yearID'] >= 2000]"
   ]
  },
  {
   "cell_type": "code",
   "execution_count": 43,
   "metadata": {},
   "outputs": [],
   "source": [
    "def get_playerid(last_name, first_name=None):\n",
    "    if first_name:\n",
    "        playerid = player_data.loc[(player_data['nameLast'] == last_name) & (player_data['nameFirst'] == first_name)]['playerID']\n",
    "    else:\n",
    "        playerid = player_data.loc[(player_data['nameLast'] == last_name)]['playerID']\n",
    "    return playerid"
   ]
  },
  {
   "cell_type": "code",
   "execution_count": null,
   "metadata": {},
   "outputs": [],
   "source": [
    "get_playerid('Kershaw')"
   ]
  }
 ],
 "metadata": {
  "kernelspec": {
   "display_name": "Python 3",
   "language": "python",
   "name": "python3"
  },
  "language_info": {
   "codemirror_mode": {
    "name": "ipython",
    "version": 3
   },
   "file_extension": ".py",
   "mimetype": "text/x-python",
   "name": "python",
   "nbconvert_exporter": "python",
   "pygments_lexer": "ipython3",
   "version": "3.8.1"
  }
 },
 "nbformat": 4,
 "nbformat_minor": 4
}
